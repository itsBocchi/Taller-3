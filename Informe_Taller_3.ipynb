{
 "cells": [
  {
   "cell_type": "markdown",
   "id": "12be42c5",
   "metadata": {},
   "source": [
    "<head>\n",
    "<b><center>CIENCIA DE DATOS</center>\n",
    "\n",
    "<center>TALLER 3</center>\n",
    "<center>2024-1</center>\n",
    "\n",
    "<center>Profesor: Gabriel Jara </center><br>\n",
    "<center>Integrantes: Fernando Salgado, Cristián González</center><br>\n",
    "</head>"
   ]
  },
  {
   "cell_type": "markdown",
   "id": "a9457d5f",
   "metadata": {},
   "source": [
    "Intro"
   ]
  },
  {
   "cell_type": "markdown",
   "id": "7ab49fc7",
   "metadata": {},
   "source": [
    "Carga Datos"
   ]
  },
  {
   "cell_type": "code",
   "execution_count": 2,
   "id": "3fef1264",
   "metadata": {},
   "outputs": [
    {
     "name": "stderr",
     "output_type": "stream",
     "text": [
      "C:\\Users\\borrar\\AppData\\Local\\Temp\\ipykernel_5376\\4292269185.py:11: DtypeWarning: Columns (1,2,3,4,5,6,7,8,9,10,11,12,13,14,15,16,17,18,19,20,21,22,23,24,25,26,27,28,29,30,31,32,33,34,35,36,37,38,39,40,41,42,43,44,45,46,47,48,49,50,51,52,53,54,55,56,57,58,59,60,61,62,63,64,65,66,67,68,69,70,71,72,73,74,75,76,77,78,79,80,81,82,83,84,85,86,87,88,89,90,91,92,93,94,95,96,97,98,99,100,101,102,103,104,105,106,107,108,109,110,111,112,113,114,115,116,117,118,119,120,121,122,123,124,125,126,127,128,129,130,131,132,133,134,135,136,137,138,139,140,141,142,143,144,145,146,147,148,149,150,151,152,153,154,155,156,157,158,159,160,161,162,163,164,165,166,167,168,169,170,171,172,173,174,175,176,177,178,179,180,181,182,183,184,185,186,187,188,189,190,191,192,193,194,195,196,197,198,199,200) have mixed types. Specify dtype option on import or set low_memory=False.\n",
      "  exitosas = pd.read_csv('data/transacciones_exitosas.csv')\n"
     ]
    }
   ],
   "source": [
    "import pandas as pd\n",
    "import numpy as np\n",
    "from sklearn.model_selection import train_test_split, GridSearchCV\n",
    "from sklearn.preprocessing import StandardScaler\n",
    "from sklearn.metrics import roc_auc_score\n",
    "from sklearn.ensemble import RandomForestClassifier\n",
    "from sklearn.svm import SVC\n",
    "from sklearn.linear_model import LogisticRegression\n",
    "\n",
    "\n",
    "exitosas = pd.read_csv('data/transacciones_exitosas.csv')\n",
    "fallidas = pd.read_csv('data/transacciones_fallidas.csv')\n",
    "evaluacion = pd.read_csv('data/transacciones_evaluación.csv')\n",
    "\n",
    "# Eliminar fila con mal formato\n",
    "exitosas = exitosas.drop(148541)\n",
    "\n",
    "\n",
    "# Añadir etiquetas a los datos\n",
    "exitosas['label'] = 0\n",
    "fallidas['label'] = 1\n",
    "\n",
    "# Combinar datos exitosos y fallidos\n",
    "datos = pd.concat([exitosas, fallidas], ignore_index=True)\n",
    "\n"
   ]
  },
  {
   "cell_type": "markdown",
   "id": "f954982f",
   "metadata": {},
   "source": [
    "Preprocesamiento"
   ]
  },
  {
   "cell_type": "code",
   "execution_count": 3,
   "id": "8f9fd073",
   "metadata": {},
   "outputs": [
    {
     "name": "stderr",
     "output_type": "stream",
     "text": [
      "c:\\Users\\borrar\\AppData\\Local\\Programs\\Python\\Python312\\Lib\\site-packages\\sklearn\\utils\\extmath.py:1140: RuntimeWarning: invalid value encountered in divide\n",
      "  updated_mean = (last_sum + new_sum) / updated_sample_count\n",
      "c:\\Users\\borrar\\AppData\\Local\\Programs\\Python\\Python312\\Lib\\site-packages\\sklearn\\utils\\extmath.py:1145: RuntimeWarning: invalid value encountered in divide\n",
      "  T = new_sum / new_sample_count\n",
      "c:\\Users\\borrar\\AppData\\Local\\Programs\\Python\\Python312\\Lib\\site-packages\\sklearn\\utils\\extmath.py:1165: RuntimeWarning: invalid value encountered in divide\n",
      "  new_unnormalized_variance -= correction**2 / new_sample_count\n"
     ]
    }
   ],
   "source": []
  },
  {
   "cell_type": "markdown",
   "id": "45b04d9f",
   "metadata": {},
   "source": [
    "Selección de Modelo"
   ]
  },
  {
   "cell_type": "markdown",
   "id": "421c4a52",
   "metadata": {},
   "source": [
    "mejor modelo"
   ]
  }
 ],
 "metadata": {
  "kernelspec": {
   "display_name": "Python 3",
   "language": "python",
   "name": "python3"
  },
  "language_info": {
   "codemirror_mode": {
    "name": "ipython",
    "version": 3
   },
   "file_extension": ".py",
   "mimetype": "text/x-python",
   "name": "python",
   "nbconvert_exporter": "python",
   "pygments_lexer": "ipython3",
   "version": "3.12.4"
  }
 },
 "nbformat": 4,
 "nbformat_minor": 5
}
